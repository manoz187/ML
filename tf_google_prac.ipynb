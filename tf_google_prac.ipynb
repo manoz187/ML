{
  "nbformat": 4,
  "nbformat_minor": 0,
  "metadata": {
    "colab": {
      "name": "tf_google_prac.ipynb",
      "provenance": [],
      "collapsed_sections": []
    },
    "kernelspec": {
      "name": "python3",
      "display_name": "Python 3"
    }
  },
  "cells": [
    {
      "cell_type": "code",
      "metadata": {
        "colab": {
          "base_uri": "https://localhost:8080/"
        },
        "id": "6uz9wWBLkGSv",
        "outputId": "ccc4a637-7914-4ef3-e6ec-6c05f6ec12e7"
      },
      "source": [
        "import numpy as np\r\n",
        "dimensional_array = np.array([1.2, 2.4, 3.5, 4.7, 6.1, 7.2, 8.3, 9.5])\r\n",
        "two_dimensional_array=np.array([[1,2],[3,4],[5,6]])\r\n",
        "null_matrix=np.arange(5,10)\r\n",
        "print(two_dimensional_array)\r\n",
        "print(null_matrix)"
      ],
      "execution_count": null,
      "outputs": [
        {
          "output_type": "stream",
          "text": [
            "[[1 2]\n",
            " [3 4]\n",
            " [5 6]]\n",
            "[5 6 7 8 9]\n"
          ],
          "name": "stdout"
        }
      ]
    },
    {
      "cell_type": "markdown",
      "metadata": {
        "id": "6VLpXtRkr3Kq"
      },
      "source": [
        "In this exercise , created an array with feature and modified labels by random noise\r\n",
        "\r\n",
        "Numpy exercise\r\n"
      ]
    },
    {
      "cell_type": "code",
      "metadata": {
        "colab": {
          "base_uri": "https://localhost:8080/"
        },
        "id": "uqxAd9jgo0JT",
        "outputId": "526970be-2865-4367-cb55-ec2d480e5164"
      },
      "source": [
        "import numpy as np\r\n",
        "feature=np.arange(6,21)\r\n",
        "label=3*feature+4\r\n",
        "l=len(label)\r\n",
        "noise=np.random.uniform(-2,2,l)\r\n",
        "label=label+noise\r\n",
        "print(feature)\r\n",
        "print(label)"
      ],
      "execution_count": null,
      "outputs": [
        {
          "output_type": "stream",
          "text": [
            "[ 6  7  8  9 10 11 12 13 14 15 16 17 18 19 20]\n",
            "[21.12290951 26.5667663  28.44244563 30.75242868 35.76441707 35.06143579\n",
            " 38.7139598  44.16956992 44.60011755 50.07029099 50.24444257 55.99730079\n",
            " 58.26899781 61.04545543 64.788055  ]\n"
          ],
          "name": "stdout"
        }
      ]
    },
    {
      "cell_type": "markdown",
      "metadata": {
        "id": "udi7CTW63noG"
      },
      "source": [
        "Below is the code exercise for pandas data frames , df in a table created in runtime , has a lot of operations to slice and mainly used to randomise data for ml"
      ]
    },
    {
      "cell_type": "code",
      "metadata": {
        "colab": {
          "base_uri": "https://localhost:8080/"
        },
        "id": "yk10aTfrr2G8",
        "outputId": "303f7ded-015b-45d9-837c-47acbf6c95c9"
      },
      "source": [
        "import pandas as pd\r\n",
        "import math\r\n",
        "my_dat=np.random.rand(3,4)\r\n",
        "my_data=np.rint(my_dat*100)\r\n",
        "my_columns=['Eleanor', 'Chidi', 'Tahani', 'Jason']\r\n",
        "my_dataframe = pd.DataFrame(data=my_data, columns=my_columns)\r\n",
        "my_dataframe['Janet']=my_dataframe['Tahani']+my_dataframe['Jason']\r\n",
        "my_value=my_dataframe.loc[1,'Eleanor']\r\n",
        "print(my_dataframe,'\\n')\r\n",
        "print(my_dataframe.iloc[[1]],'\\n')\r\n",
        "print(my_value,'\\n')\r\n",
        "\r\n",
        "#create duplicate df\r\n",
        "my_df_2=pd.DataFrame.copy(my_dataframe)\r\n",
        "\r\n",
        "#other method to slice using row and colums\r\n",
        "q=my_df_2['Chidi'][0]\r\n",
        "print(q)\r\n",
        "\r\n",
        "#other method to intaite data frame in  a line\r\n",
        "my_new_df=pd.DataFrame(data=np.rint(np.random.rand(3,4)*10),columns=['A','B','C','D'])\r\n",
        "print(my_new_df,'\\n')"
      ],
      "execution_count": null,
      "outputs": [
        {
          "output_type": "stream",
          "text": [
            "   Eleanor  Chidi  Tahani  Jason  Janet\n",
            "0     27.0   68.0    64.0   34.0   98.0\n",
            "1      6.0   54.0     9.0   45.0   54.0\n",
            "2     11.0   77.0    82.0   37.0  119.0 \n",
            "\n",
            "   Eleanor  Chidi  Tahani  Jason  Janet\n",
            "1      6.0   54.0     9.0   45.0   54.0 \n",
            "\n",
            "6.0 \n",
            "\n",
            "68.0\n",
            "      A    B    C    D\n",
            "0   6.0  1.0  3.0  5.0\n",
            "1  10.0  3.0  6.0  9.0\n",
            "2   9.0  6.0  1.0  1.0 \n",
            "\n"
          ],
          "name": "stdout"
        }
      ]
    },
    {
      "cell_type": "code",
      "metadata": {
        "colab": {
          "base_uri": "https://localhost:8080/"
        },
        "id": "3r1NaGR2r6-N",
        "outputId": "92defb29-a130-4652-82a3-76043a398d51"
      },
      "source": [
        "import pandas as pd\r\n",
        "import numpy as np\r\n",
        "import tensorflow as tf\r\n",
        "\r\n",
        "from matplotlib import pyplot as plt\r\n",
        "\r\n",
        "def build_model(my_learning_rate):\r\n",
        "  model = tf.keras.models.Sequential()\r\n",
        "  model.add(tf.keras.layers.Dense(units=1,input_shape=(1,)))\r\n",
        "  model.compile(optimizer=tf.keras.optimizers.RMSprop(learning_rate=my_learning_rate),loss='mean_squared_error',metrics=[tf.keras.metrics.RootMeanSquaredError()])\r\n",
        "  model.summary()\r\n",
        "  return model\r\n",
        "\r\n",
        "build_model(1)\r\n",
        "\r\n"
      ],
      "execution_count": null,
      "outputs": [
        {
          "output_type": "stream",
          "text": [
            "Model: \"sequential_2\"\n",
            "_________________________________________________________________\n",
            "Layer (type)                 Output Shape              Param #   \n",
            "=================================================================\n",
            "dense_1 (Dense)              (None, 1)                 2         \n",
            "=================================================================\n",
            "Total params: 2\n",
            "Trainable params: 2\n",
            "Non-trainable params: 0\n",
            "_________________________________________________________________\n"
          ],
          "name": "stdout"
        },
        {
          "output_type": "execute_result",
          "data": {
            "text/plain": [
              "<tensorflow.python.keras.engine.sequential.Sequential at 0x7ff0eba6fa58>"
            ]
          },
          "metadata": {
            "tags": []
          },
          "execution_count": 5
        }
      ]
    },
    {
      "cell_type": "code",
      "metadata": {
        "id": "CNpvVp1oc5up"
      },
      "source": [
        "def train_model(model,feature,labels,epochs,batch_size):\r\n",
        "  history=model.fit(x=feature,y=label,batch_size=batch_size,epochs=epochs)\r\n",
        "  trained_weights=model.getweights()[0]\r\n",
        "  trained_bias=model.getweights()[1]\r\n",
        "  epochs=history.epoch\r\n",
        "  hist=pd.DataFrame(history.history)\r\n",
        "  rmse=hist['root_mean_squared_error']\r\n"
      ],
      "execution_count": null,
      "outputs": []
    },
    {
      "cell_type": "code",
      "metadata": {
        "id": "zVEd9oo74__W"
      },
      "source": [
        "train_sample=[]\r\n",
        "train_labels=[]"
      ],
      "execution_count": null,
      "outputs": []
    },
    {
      "cell_type": "code",
      "metadata": {
        "id": "ykM2JIRY4Hjt"
      },
      "source": [
        "#generate data\r\n",
        "from sklearn.preprocessing import MinMaxScaler\r\n",
        "from random import randint\r\n",
        "import numpy as np\r\n",
        "import tensorflow as tf\r\n",
        "\r\n",
        "\r\n",
        "for i in range(200):\r\n",
        "  younger_rand=randint(13,64)\r\n",
        "  train_sample.append(younger_rand)\r\n",
        "  train_labels.append(0)\r\n",
        "\r\n",
        "  old_rand=randint(65,100)\r\n",
        "  train_sample.append(old_rand)\r\n",
        "  train_labels.append(1)\r\n",
        "\r\n",
        "for i in range(20):\r\n",
        "  younger_rand=randint(13,64)\r\n",
        "  train_sample.append(younger_rand)\r\n",
        "  train_labels.append(1)\r\n",
        "\r\n",
        "  old_rand=randint(65,100)\r\n",
        "  train_sample.append(old_rand)\r\n",
        "  train_labels.append(0)\r\n",
        "\r\n",
        "\r\n",
        "train_samples_np=np.array(train_sample)\r\n",
        "train_labels_np=np.array(train_labels)\r\n",
        "\r\n"
      ],
      "execution_count": null,
      "outputs": []
    },
    {
      "cell_type": "code",
      "metadata": {
        "id": "ANYld7LV75Z9"
      },
      "source": [
        "#scaling\r\n",
        "scaler=MinMaxScaler(feature_range=(0,1))\r\n",
        "scaled_train_samples=scaler.fit_transform((train_samples_np).reshape(-1,1))\r\n"
      ],
      "execution_count": null,
      "outputs": []
    },
    {
      "cell_type": "code",
      "metadata": {
        "colab": {
          "base_uri": "https://localhost:8080/"
        },
        "id": "THBqj4_Khssr",
        "outputId": "3d5ab23b-f873-48ae-db19-3bfabc8080e0"
      },
      "source": [
        "#build_model\r\n",
        "lr=0.01\r\n",
        "model=tf.keras.models.Sequential()\r\n",
        "model.add(tf.keras.layers.Dense(units=1,input_shape=(1,),activation='relu'))\r\n",
        "model.compile(optimizer=tf.keras.optimizers.SGD(learning_rate=lr),loss=\"mean_squared_error\",metrics=[tf.keras.metrics.RootMeanSquaredError()])\r\n",
        "model.summary()"
      ],
      "execution_count": null,
      "outputs": [
        {
          "output_type": "stream",
          "text": [
            "Model: \"sequential\"\n",
            "_________________________________________________________________\n",
            "Layer (type)                 Output Shape              Param #   \n",
            "=================================================================\n",
            "dense (Dense)                (None, 1)                 2         \n",
            "=================================================================\n",
            "Total params: 2\n",
            "Trainable params: 2\n",
            "Non-trainable params: 0\n",
            "_________________________________________________________________\n"
          ],
          "name": "stdout"
        }
      ]
    },
    {
      "cell_type": "code",
      "metadata": {
        "id": "p_-0Unic-xac"
      },
      "source": [
        "#train_model\r\n",
        "ep=30\r\n",
        "batch_s=20\r\n",
        "model.fit(x=scaled_train_samples,y=train_labels_np,epochs=ep,batch_size=batch_s)\r\n"
      ],
      "execution_count": null,
      "outputs": []
    },
    {
      "cell_type": "code",
      "metadata": {
        "id": "lHVvp4xZKSb-"
      },
      "source": [
        "#test samples generated random data for test samples as well similar to train samples\r\n",
        "test_samples=[]\r\n",
        "test_labels=[]\r\n",
        "\r\n",
        "for i in range(10):\r\n",
        "  young_rand=randint(13,64)\r\n",
        "  test_samples.append(young_rand)\r\n",
        "  test_labels.append(1)\r\n",
        "\r\n",
        "  old_rand_t=randint(65,100)\r\n",
        "  test_samples.append(old_rand_t)\r\n",
        "  test_labels.append(0)\r\n",
        "\r\n",
        "for i in range(40):\r\n",
        "  young_rand=randint(13,64)\r\n",
        "  test_samples.append(young_rand)\r\n",
        "  test_labels.append(0)\r\n",
        "\r\n",
        "  old_rand_t=randint(65,100)\r\n",
        "  test_samples.append(old_rand_t)\r\n",
        "  test_labels.append(1)\r\n",
        "\r\n",
        "np_test_samples=np.array(test_samples)\r\n",
        "np_test_labels=np.array(test_labels)\r\n",
        "\r\n",
        "scaled_test_samples=scaler.fit_transform((np_test_samples).reshape(-1,1))"
      ],
      "execution_count": null,
      "outputs": []
    },
    {
      "cell_type": "code",
      "metadata": {
        "id": "yuJQst13OA-d"
      },
      "source": [
        "from IPython.display import display, Javascript\n",
        "from google.colab.output import eval_js\n",
        "from base64 import b64decode\n",
        "\n",
        "def take_photo(filename='photo.jpg', quality=0.8):\n",
        "  js = Javascript('''\n",
        "    async function takePhoto(quality) {\n",
        "      const div = document.createElement('div');\n",
        "      const capture = document.createElement('button');\n",
        "      capture.textContent = 'Capture';\n",
        "      div.appendChild(capture);\n",
        "\n",
        "      const video = document.createElement('video');\n",
        "      video.style.display = 'block';\n",
        "      const stream = await navigator.mediaDevices.getUserMedia({video: true});\n",
        "\n",
        "      document.body.appendChild(div);\n",
        "      div.appendChild(video);\n",
        "      video.srcObject = stream;\n",
        "      await video.play();\n",
        "\n",
        "      // Resize the output to fit the video element.\n",
        "      google.colab.output.setIframeHeight(document.documentElement.scrollHeight, true);\n",
        "\n",
        "      // Wait for Capture to be clicked.\n",
        "      await new Promise((resolve) => capture.onclick = resolve);\n",
        "\n",
        "      const canvas = document.createElement('canvas');\n",
        "      canvas.width = video.videoWidth;\n",
        "      canvas.height = video.videoHeight;\n",
        "      canvas.getContext('2d').drawImage(video, 0, 0);\n",
        "      stream.getVideoTracks()[0].stop();\n",
        "      div.remove();\n",
        "      return canvas.toDataURL('image/jpeg', quality);\n",
        "    }\n",
        "    ''')\n",
        "  display(js)\n",
        "  data = eval_js('takePhoto({})'.format(quality))\n",
        "  binary = b64decode(data.split(',')[1])\n",
        "  with open(filename, 'wb') as f:\n",
        "    f.write(binary)\n",
        "  return filename"
      ],
      "execution_count": null,
      "outputs": []
    },
    {
      "cell_type": "code",
      "metadata": {
        "id": "gxXcTTPAOEK2"
      },
      "source": [
        "from IPython.display import display, Javascript\n",
        "from google.colab.output import eval_js\n",
        "from base64 import b64decode\n",
        "\n",
        "def take_photo(filename='photo.jpg', quality=0.8):\n",
        "  js = Javascript('''\n",
        "    async function takePhoto(quality) {\n",
        "      const div = document.createElement('div');\n",
        "      const capture = document.createElement('button');\n",
        "      capture.textContent = 'Capture';\n",
        "      div.appendChild(capture);\n",
        "\n",
        "      const video = document.createElement('video');\n",
        "      video.style.display = 'block';\n",
        "      const stream = await navigator.mediaDevices.getUserMedia({video: true});\n",
        "\n",
        "      document.body.appendChild(div);\n",
        "      div.appendChild(video);\n",
        "      video.srcObject = stream;\n",
        "      await video.play();\n",
        "\n",
        "      // Resize the output to fit the video element.\n",
        "      google.colab.output.setIframeHeight(document.documentElement.scrollHeight, true);\n",
        "\n",
        "      // Wait for Capture to be clicked.\n",
        "      await new Promise((resolve) => capture.onclick = resolve);\n",
        "\n",
        "      const canvas = document.createElement('canvas');\n",
        "      canvas.width = video.videoWidth;\n",
        "      canvas.height = video.videoHeight;\n",
        "      canvas.getContext('2d').drawImage(video, 0, 0);\n",
        "      stream.getVideoTracks()[0].stop();\n",
        "      div.remove();\n",
        "      return canvas.toDataURL('image/jpeg', quality);\n",
        "    }\n",
        "    ''')\n",
        "  display(js)\n",
        "  data = eval_js('takePhoto({})'.format(quality))\n",
        "  binary = b64decode(data.split(',')[1])\n",
        "  with open(filename, 'wb') as f:\n",
        "    f.write(binary)\n",
        "  return filename"
      ],
      "execution_count": null,
      "outputs": []
    },
    {
      "cell_type": "code",
      "metadata": {
        "id": "nxDf8uhSOEK5"
      },
      "source": [
        "from IPython.display import Image\n",
        "try:\n",
        "  filename = take_photo()\n",
        "  print('Saved to {}'.format(filename))\n",
        "  \n",
        "  # Show the image which was just taken.\n",
        "  display(Image(filename))\n",
        "except Exception as err:\n",
        "  # Errors will be thrown if the user does not have a webcam or if they do not\n",
        "  # grant the page permission to access it.\n",
        "  print(str(err))"
      ],
      "execution_count": null,
      "outputs": []
    },
    {
      "cell_type": "code",
      "metadata": {
        "id": "IcWX0-tcOA-4"
      },
      "source": [
        "from IPython.display import Image\n",
        "try:\n",
        "  filename = take_photo()\n",
        "  print('Saved to {}'.format(filename))\n",
        "  \n",
        "  # Show the image which was just taken.\n",
        "  display(Image(filename))\n",
        "except Exception as err:\n",
        "  # Errors will be thrown if the user does not have a webcam or if they do not\n",
        "  # grant the page permission to access it.\n",
        "  print(str(err))"
      ],
      "execution_count": null,
      "outputs": []
    },
    {
      "cell_type": "markdown",
      "metadata": {
        "id": "xLPM-1gUNTck"
      },
      "source": [
        "model.predict is used to give the exact predicted value(probability) whereas predict_class will round the value and give either 0,1"
      ]
    },
    {
      "cell_type": "code",
      "metadata": {
        "id": "8lH6TXs2OfcC"
      },
      "source": [
        "#predict\r\n",
        "predictions=model.predict(scaled_test_samples,batch_size=7,verbose=0)\r\n",
        "roounded_predictions=model.predict_classes(scaled_test_samples,batch_size=7,verbose=0)\r\n",
        "for i in predictions:\r\n",
        "  print(i)"
      ],
      "execution_count": null,
      "outputs": []
    }
  ]
}